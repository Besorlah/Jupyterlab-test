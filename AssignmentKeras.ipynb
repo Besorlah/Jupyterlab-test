{
 "cells": [
  {
   "cell_type": "code",
   "execution_count": null,
   "metadata": {},
   "outputs": [],
   "source": [
    "!pip install --upgrade keras-preprocessing setuptools tensorflow==1.14.0 keras==2.2.5"
   ]
  },
  {
   "cell_type": "code",
   "execution_count": null,
   "metadata": {},
   "outputs": [],
   "source": [
    "import tensorflow\n",
    "if not tensorflow.__version__ == '1.14.0':\n",
    "    print(tensorflow.__version__)\n",
    "    raise ValueError('please upgrade to Tensorflow 1.14.0, or restart your Kernel (Kernel->Restart & Clear Output)')\n",
    "    \n",
    "import keras\n",
    "if not keras.__version__ == '2.2.5':\n",
    "    print(keras.__version__)\n",
    "    raise ValueError('please upgrade to keras 2.2.5, or restart your Kernel (Kernel->Restart & Clear Output)')"
   ]
  },
  {
   "cell_type": "code",
   "execution_count": null,
   "metadata": {},
   "outputs": [],
   "source": []
  },
  {
   "cell_type": "code",
   "execution_count": null,
   "metadata": {},
   "outputs": [],
   "source": []
  }
 ],
 "metadata": {
  "kernelspec": {
   "display_name": "Python 3",
   "language": "python",
   "name": "python3"
  },
  "language_info": {
   "codemirror_mode": {
    "name": "ipython",
    "version": 3
   },
   "file_extension": ".py",
   "mimetype": "text/x-python",
   "name": "python",
   "nbconvert_exporter": "python",
   "pygments_lexer": "ipython3",
   "version": "3.7.6"
  }
 },
 "nbformat": 4,
 "nbformat_minor": 4
}
